{
  "nbformat": 4,
  "nbformat_minor": 0,
  "metadata": {
    "colab": {
      "name": "Untitled",
      "version": "0.3.2",
      "provenance": [],
      "include_colab_link": true
    },
    "kernelspec": {
      "name": "python3",
      "display_name": "Python 3"
    }
  },
  "cells": [
    {
      "cell_type": "markdown",
      "metadata": {
        "id": "view-in-github",
        "colab_type": "text"
      },
      "source": [
        "<a href=\"https://colab.research.google.com/github/restrepo/LaTeXTipsAndTricks/blob/master/metafont/metafont.ipynb\" target=\"_parent\"><img src=\"https://colab.research.google.com/assets/colab-badge.svg\" alt=\"Open In Colab\"/></a>"
      ]
    },
    {
      "metadata": {
        "id": "F1ElEBLAgTxl",
        "colab_type": "code",
        "colab": {
          "base_uri": "https://localhost:8080/",
          "height": 109
        },
        "outputId": "eea3bddb-5db6-42c9-fc63-91d6440f73e6"
      },
      "cell_type": "code",
      "source": [
        "! apt install texlive-metapost 2> /dev/null "
      ],
      "execution_count": 9,
      "outputs": [
        {
          "output_type": "stream",
          "text": [
            "Reading package lists... Done\n",
            "Building dependency tree       \n",
            "Reading state information... Done\n",
            "texlive-metapost is already the newest version (2017.20180305-1).\n",
            "0 upgraded, 0 newly installed, 0 to remove and 4 not upgraded.\n"
          ],
          "name": "stdout"
        }
      ]
    },
    {
      "metadata": {
        "id": "LmF1GI5wtMa1",
        "colab_type": "text"
      },
      "cell_type": "markdown",
      "source": [
        "El siguiente función es un  [spline cúbico](https://es.wikipedia.org/wiki/Spline)\n",
        "$$\n",
        "y(x)=a_0 + a_1 x +a_2 x^2 +a_3 x^3\\,.\n",
        "$$"
      ]
    },
    {
      "metadata": {
        "id": "PTtIexMPijiQ",
        "colab_type": "code",
        "colab": {
          "base_uri": "https://localhost:8080/",
          "height": 35
        },
        "outputId": "30f8d30c-aae2-4792-cb0f-83caf3b60999"
      },
      "cell_type": "code",
      "source": [
        "%%writefile a.mf\n",
        "% parameters are name, width, height over base line, depth below base line\n",
        "beginchar (\"draw a\", 9pt#, 12pt#, 0);\n",
        "  alpha:=0.65;\n",
        "  beta:=0.24;\n",
        "\n",
        "  % define points\n",
        "  x1 = 0; y1 = 0.8*h;\n",
        "  x4 = w; y4 = 0.2*h;\n",
        "  y2 = h; y3 = 0;\n",
        "  x2 = (alpha-beta)*w;\n",
        "  x5 = alpha*w;\n",
        "  x3 = (alpha+beta)*w;\n",
        "  y5 = 0.5*h;\n",
        "  x6 = 0; y6 = 0.3*h;\n",
        "  x7 = 0.2*w; y7 = 0;\n",
        "  x8 = x5; y8 = 0.2*h;\n",
        "\n",
        "  % define pen\n",
        "  pickup pencircle xscaled 0.2w yscaled 0.04w rotated 30;\n",
        "\n",
        "  % draw: z=(x,y)\n",
        "  draw z1{dir 30}..z2{right}..z5{down}..z3{right}..z4{dir 30};\n",
        "  draw z5..z6{down}..z7{right}..z8;\n",
        "  penlabels(1,2,3,4,5,6,7,8);\n",
        "endchar;\n",
        "\n",
        "end"
      ],
      "execution_count": 14,
      "outputs": [
        {
          "output_type": "stream",
          "text": [
            "Writing a.mf\n"
          ],
          "name": "stdout"
        }
      ]
    },
    {
      "metadata": {
        "id": "pVCmst25gYbx",
        "colab_type": "code",
        "colab": {
          "base_uri": "https://localhost:8080/",
          "height": 35
        },
        "outputId": "45dd6266-589f-450f-8065-1725e4e56fb1"
      },
      "cell_type": "code",
      "source": [
        "%%writefile runmf\n",
        "#!/bin/bash\n",
        "mktextfm gray\n",
        "mktextfm black\n",
        "mf-nowin -progname=mf \"$1\" < /dev/null 2> /dev/null"
      ],
      "execution_count": 12,
      "outputs": [
        {
          "output_type": "stream",
          "text": [
            "Writing runmf\n"
          ],
          "name": "stdout"
        }
      ]
    },
    {
      "metadata": {
        "id": "pluAQ46HiBt_",
        "colab_type": "code",
        "colab": {}
      },
      "cell_type": "code",
      "source": [
        "! chmod +x runmf"
      ],
      "execution_count": 0,
      "outputs": []
    },
    {
      "metadata": {
        "id": "DI-zh0PgiMq5",
        "colab_type": "code",
        "colab": {
          "base_uri": "https://localhost:8080/",
          "height": 165
        },
        "outputId": "0d3245bd-0c46-4a12-e7ce-213b65ecb5c4"
      },
      "cell_type": "code",
      "source": [
        "!./runmf a.mf"
      ],
      "execution_count": 16,
      "outputs": [
        {
          "output_type": "stream",
          "text": [
            "mktextfm: /root/.texlive2017/texmf-var/fonts/tfm/public/knuth-local/gray.tfm already exists.\n",
            "/root/.texlive2017/texmf-var/fonts/tfm/public/knuth-local/gray.tfm\n",
            "mktextfm: /root/.texlive2017/texmf-var/fonts/tfm/public/knuth-local/black.tfm already exists.\n",
            "/root/.texlive2017/texmf-var/fonts/tfm/public/knuth-local/black.tfm\n",
            "This is METAFONT, Version 2.7182818 (TeX Live 2017/Debian) (preloaded base=mf)\n",
            "(a.mf [100] )\n",
            "Output written on a.2602gf (1 character, 2960 bytes).\n",
            "Transcript written on a.log.\n"
          ],
          "name": "stdout"
        }
      ]
    },
    {
      "metadata": {
        "id": "BbhpU243iuds",
        "colab_type": "code",
        "colab": {}
      },
      "cell_type": "code",
      "source": [
        "! gftodvi a.2602gf"
      ],
      "execution_count": 0,
      "outputs": []
    },
    {
      "metadata": {
        "id": "tzrluYpUjMKQ",
        "colab_type": "code",
        "colab": {
          "base_uri": "https://localhost:8080/",
          "height": 54
        },
        "outputId": "1e2197d3-d1b7-4074-e1ea-0fd044fdca60"
      },
      "cell_type": "code",
      "source": [
        "! dvipdf a.dvi"
      ],
      "execution_count": 20,
      "outputs": [
        {
          "output_type": "stream",
          "text": [
            "dvips: Font gray at 8000 not found; scaling 600 instead.\n",
            "dvips: Such scaling will generate extremely poor output.\n"
          ],
          "name": "stdout"
        }
      ]
    },
    {
      "metadata": {
        "id": "s0bcu--WjU1e",
        "colab_type": "code",
        "colab": {}
      },
      "cell_type": "code",
      "source": [
        ""
      ],
      "execution_count": 0,
      "outputs": []
    }
  ]
}